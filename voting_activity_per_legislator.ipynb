{
 "cells": [
  {
   "cell_type": "markdown",
   "metadata": {},
   "source": [
    "# 1st Task: Check voting activity per legislator of the given bills.csv\n",
    "### For every legislator in the dataset, how many bills did the legislator support (voted for the bill)? How many bills did the legislator oppose?\n",
    "### Expected output: CSV file named \"legislators-support-oppose-count.csv\" with 4 columns as follows:\n",
    "\n",
    "### Field Type Description\n",
    "id | integer | The id of the legislator \\\n",
    "name | string | The name of the legislator \\\n",
    "num_supported_bills | integer The number of bills the legislator voted Yea on from the dataset \\\n",
    "num_opposed_bills | integer | The number of bills the legislator voted Nay on from the dataset \n",
    "\n"
   ]
  },
  {
   "cell_type": "code",
   "execution_count": 3,
   "metadata": {},
   "outputs": [],
   "source": [
    "import pandas as pd"
   ]
  },
  {
   "cell_type": "code",
   "execution_count": 6,
   "metadata": {},
   "outputs": [
    {
     "data": {
      "text/html": [
       "<div>\n",
       "<style scoped>\n",
       "    .dataframe tbody tr th:only-of-type {\n",
       "        vertical-align: middle;\n",
       "    }\n",
       "\n",
       "    .dataframe tbody tr th {\n",
       "        vertical-align: top;\n",
       "    }\n",
       "\n",
       "    .dataframe thead th {\n",
       "        text-align: right;\n",
       "    }\n",
       "</style>\n",
       "<table border=\"1\" class=\"dataframe\">\n",
       "  <thead>\n",
       "    <tr style=\"text-align: right;\">\n",
       "      <th></th>\n",
       "      <th>id</th>\n",
       "      <th>bill_id</th>\n",
       "    </tr>\n",
       "  </thead>\n",
       "  <tbody>\n",
       "    <tr>\n",
       "      <th>0</th>\n",
       "      <td>3314452</td>\n",
       "      <td>2900994</td>\n",
       "    </tr>\n",
       "    <tr>\n",
       "      <th>1</th>\n",
       "      <td>3321166</td>\n",
       "      <td>2952375</td>\n",
       "    </tr>\n",
       "  </tbody>\n",
       "</table>\n",
       "</div>"
      ],
      "text/plain": [
       "        id  bill_id\n",
       "0  3314452  2900994\n",
       "1  3321166  2952375"
      ]
     },
     "execution_count": 6,
     "metadata": {},
     "output_type": "execute_result"
    }
   ],
   "source": [
    "bills_df = pd.read_csv(\"./bills.csv\")\n",
    "legislators_df = pd.read_csv(\"./legislators.csv\")\n",
    "vote_results_df = pd.read_csv(\"./vote_results.csv\")\n",
    "votes_df = pd.read_csv(\"./votes.csv\")\n",
    "\n",
    "votes_df.head()"
   ]
  }
 ],
 "metadata": {
  "kernelspec": {
   "display_name": "Python 3",
   "language": "python",
   "name": "python3"
  },
  "language_info": {
   "codemirror_mode": {
    "name": "ipython",
    "version": 3
   },
   "file_extension": ".py",
   "mimetype": "text/x-python",
   "name": "python",
   "nbconvert_exporter": "python",
   "pygments_lexer": "ipython3",
   "version": "3.10.7"
  }
 },
 "nbformat": 4,
 "nbformat_minor": 2
}
