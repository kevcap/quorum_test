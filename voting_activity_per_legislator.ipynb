{
 "cells": [
  {
   "cell_type": "markdown",
   "metadata": {},
   "source": [
    "# 1st Task: Check voting activity per legislator of the given bills.csv\n",
    "### For every legislator in the dataset, how many bills did the legislator support (voted for the bill)? How many bills did the legislator oppose?\n",
    "### Expected output: CSV file named \"legislators-support-oppose-count.csv\" with 4 columns as follows:\n",
    "\n",
    "### Field Type Description\n",
    "id | integer | The id of the legislator \\\n",
    "name | string | The name of the legislator \\\n",
    "num_supported_bills | integer The number of bills the legislator voted Yea on from the dataset \\\n",
    "num_opposed_bills | integer | The number of bills the legislator voted Nay on from the dataset \n",
    "\n"
   ]
  },
  {
   "cell_type": "code",
   "execution_count": 3,
   "metadata": {},
   "outputs": [],
   "source": [
    "import pandas as pd"
   ]
  },
  {
   "cell_type": "code",
   "execution_count": 6,
   "metadata": {},
   "outputs": [
    {
     "data": {
      "text/html": [
       "<div>\n",
       "<style scoped>\n",
       "    .dataframe tbody tr th:only-of-type {\n",
       "        vertical-align: middle;\n",
       "    }\n",
       "\n",
       "    .dataframe tbody tr th {\n",
       "        vertical-align: top;\n",
       "    }\n",
       "\n",
       "    .dataframe thead th {\n",
       "        text-align: right;\n",
       "    }\n",
       "</style>\n",
       "<table border=\"1\" class=\"dataframe\">\n",
       "  <thead>\n",
       "    <tr style=\"text-align: right;\">\n",
       "      <th></th>\n",
       "      <th>id</th>\n",
       "      <th>bill_id</th>\n",
       "    </tr>\n",
       "  </thead>\n",
       "  <tbody>\n",
       "    <tr>\n",
       "      <th>0</th>\n",
       "      <td>3314452</td>\n",
       "      <td>2900994</td>\n",
       "    </tr>\n",
       "    <tr>\n",
       "      <th>1</th>\n",
       "      <td>3321166</td>\n",
       "      <td>2952375</td>\n",
       "    </tr>\n",
       "  </tbody>\n",
       "</table>\n",
       "</div>"
      ],
      "text/plain": [
       "        id  bill_id\n",
       "0  3314452  2900994\n",
       "1  3321166  2952375"
      ]
     },
     "execution_count": 6,
     "metadata": {},
     "output_type": "execute_result"
    }
   ],
   "source": [
    "bills_df = pd.read_csv(\"./bills.csv\")\n",
    "legislators_df = pd.read_csv(\"./legislators.csv\")\n",
    "vote_results_df = pd.read_csv(\"./vote_results.csv\")\n",
    "votes_df = pd.read_csv(\"./votes.csv\")\n",
    "\n",
    "votes_df.head()"
   ]
  },
  {
   "cell_type": "code",
   "execution_count": 7,
   "metadata": {},
   "outputs": [],
   "source": [
    "merged_vote_data = pd.merge(vote_results_df, votes_df, left_on=\"vote_id\", right_on=\"id\", suffixes=(\"_vote_result\", \"_vote\"))"
   ]
  },
  {
   "cell_type": "code",
   "execution_count": 9,
   "metadata": {},
   "outputs": [
    {
     "data": {
      "text/html": [
       "<div>\n",
       "<style scoped>\n",
       "    .dataframe tbody tr th:only-of-type {\n",
       "        vertical-align: middle;\n",
       "    }\n",
       "\n",
       "    .dataframe tbody tr th {\n",
       "        vertical-align: top;\n",
       "    }\n",
       "\n",
       "    .dataframe thead th {\n",
       "        text-align: right;\n",
       "    }\n",
       "</style>\n",
       "<table border=\"1\" class=\"dataframe\">\n",
       "  <thead>\n",
       "    <tr style=\"text-align: right;\">\n",
       "      <th></th>\n",
       "      <th>id_vote_result</th>\n",
       "      <th>legislator_id</th>\n",
       "      <th>vote_id</th>\n",
       "      <th>vote_type</th>\n",
       "      <th>id_vote</th>\n",
       "      <th>bill_id</th>\n",
       "      <th>id</th>\n",
       "      <th>name</th>\n",
       "    </tr>\n",
       "  </thead>\n",
       "  <tbody>\n",
       "    <tr>\n",
       "      <th>0</th>\n",
       "      <td>92516784</td>\n",
       "      <td>400440</td>\n",
       "      <td>3321166</td>\n",
       "      <td>2</td>\n",
       "      <td>3321166</td>\n",
       "      <td>2952375</td>\n",
       "      <td>400440</td>\n",
       "      <td>Rep. Don Young (R-AK-1)</td>\n",
       "    </tr>\n",
       "    <tr>\n",
       "      <th>1</th>\n",
       "      <td>92279979</td>\n",
       "      <td>400440</td>\n",
       "      <td>3314452</td>\n",
       "      <td>1</td>\n",
       "      <td>3314452</td>\n",
       "      <td>2900994</td>\n",
       "      <td>400440</td>\n",
       "      <td>Rep. Don Young (R-AK-1)</td>\n",
       "    </tr>\n",
       "    <tr>\n",
       "      <th>2</th>\n",
       "      <td>92516770</td>\n",
       "      <td>17941</td>\n",
       "      <td>3321166</td>\n",
       "      <td>2</td>\n",
       "      <td>3321166</td>\n",
       "      <td>2952375</td>\n",
       "      <td>17941</td>\n",
       "      <td>Rep. Jeff Van Drew (R-NJ-2)</td>\n",
       "    </tr>\n",
       "    <tr>\n",
       "      <th>3</th>\n",
       "      <td>92279965</td>\n",
       "      <td>17941</td>\n",
       "      <td>3314452</td>\n",
       "      <td>1</td>\n",
       "      <td>3314452</td>\n",
       "      <td>2900994</td>\n",
       "      <td>17941</td>\n",
       "      <td>Rep. Jeff Van Drew (R-NJ-2)</td>\n",
       "    </tr>\n",
       "    <tr>\n",
       "      <th>4</th>\n",
       "      <td>92516768</td>\n",
       "      <td>400414</td>\n",
       "      <td>3321166</td>\n",
       "      <td>2</td>\n",
       "      <td>3321166</td>\n",
       "      <td>2952375</td>\n",
       "      <td>400414</td>\n",
       "      <td>Rep. Fred Upton (R-MI-6)</td>\n",
       "    </tr>\n",
       "  </tbody>\n",
       "</table>\n",
       "</div>"
      ],
      "text/plain": [
       "   id_vote_result  legislator_id  vote_id  vote_type  id_vote  bill_id  \\\n",
       "0        92516784         400440  3321166          2  3321166  2952375   \n",
       "1        92279979         400440  3314452          1  3314452  2900994   \n",
       "2        92516770          17941  3321166          2  3321166  2952375   \n",
       "3        92279965          17941  3314452          1  3314452  2900994   \n",
       "4        92516768         400414  3321166          2  3321166  2952375   \n",
       "\n",
       "       id                         name  \n",
       "0  400440      Rep. Don Young (R-AK-1)  \n",
       "1  400440      Rep. Don Young (R-AK-1)  \n",
       "2   17941  Rep. Jeff Van Drew (R-NJ-2)  \n",
       "3   17941  Rep. Jeff Van Drew (R-NJ-2)  \n",
       "4  400414     Rep. Fred Upton (R-MI-6)  "
      ]
     },
     "execution_count": 9,
     "metadata": {},
     "output_type": "execute_result"
    }
   ],
   "source": [
    "merged_legislator_vote_data = pd.merge(merged_vote_data, legislators_df, left_on=\"legislator_id\", right_on=\"id\")\n",
    "\n",
    "merged_legislator_vote_data.head()"
   ]
  },
  {
   "cell_type": "code",
   "execution_count": 10,
   "metadata": {},
   "outputs": [],
   "source": [
    "supported_bills_count = merged_legislator_vote_data[merged_legislator_vote_data[\"vote_type\"] == 1].groupby(\"name\")[\"bill_id\"].nunique()\n",
    "opposed_bills_count = merged_legislator_vote_data[merged_legislator_vote_data[\"vote_type\"] == 2].groupby(\"name\")[\"bill_id\"].nunique()\n",
    "\n",
    "#print(supported_bills_count)\n",
    "#print(opposed_bills_count)"
   ]
  },
  {
   "cell_type": "code",
   "execution_count": 12,
   "metadata": {},
   "outputs": [
    {
     "name": "stdout",
     "output_type": "stream",
     "text": [
      "    legislator_id                          legislator_name  \\\n",
      "0          904789                  Rep. Don Bacon (R-NE-2)   \n",
      "1         1603850             Rep. Jamaal Bowman (D-NY-16)   \n",
      "2         1852382                  Rep. Cori Bush (D-MO-1)   \n",
      "3          904796          Rep. Brian Fitzpatrick (R-PA-1)   \n",
      "4           15318           Rep. Andrew Garbarino (R-NY-2)   \n",
      "5         1269775          Rep. Anthony Gonzalez (R-OH-16)   \n",
      "6          412649                Rep. John Katko (R-NY-24)   \n",
      "7          412421            Rep. Adam Kinzinger (R-IL-16)   \n",
      "8           15367        Rep. Nicole Malliotakis (R-NY-11)   \n",
      "9          412487             Rep. David McKinley (R-WV-1)   \n",
      "10        1269767  Rep. Alexandria Ocasio-Cortez (D-NY-14)   \n",
      "11         905216                 Rep. Ilhan Omar (D-MN-5)   \n",
      "12        1269778            Rep. Ayanna Pressley (D-MA-7)   \n",
      "13         412393                  Rep. Tom Reed (R-NY-23)   \n",
      "14         400380                Rep. Chris Smith (R-NJ-4)   \n",
      "15        1269790             Rep. Rashida Tlaib (D-MI-13)   \n",
      "16         400414                 Rep. Fred Upton (R-MI-6)   \n",
      "17          17941              Rep. Jeff Van Drew (R-NJ-2)   \n",
      "18         400440                  Rep. Don Young (R-AK-1)   \n",
      "19         412211               Rep. John Yarmuth (D-KY-3)   \n",
      "\n",
      "    num_supported_bills  num_opposed_bills  \n",
      "0                     1                  1  \n",
      "1                     1                  1  \n",
      "2                     1                  1  \n",
      "3                     1                  1  \n",
      "4                     1                  1  \n",
      "5                     1                  1  \n",
      "6                     1                  1  \n",
      "7                     1                  1  \n",
      "8                     1                  1  \n",
      "9                     1                  1  \n",
      "10                    1                  1  \n",
      "11                    1                  1  \n",
      "12                    1                  1  \n",
      "13                    1                  1  \n",
      "14                    1                  1  \n",
      "15                    1                  1  \n",
      "16                    1                  1  \n",
      "17                    1                  1  \n",
      "18                    1                  1  \n",
      "19                    0                  0  \n"
     ]
    }
   ],
   "source": [
    "legislator_support_oppose_count = pd.DataFrame({\n",
    "    \"legislator_id\": legislators_df[\"id\"],\n",
    "    \"legislator_name\": legislators_df[\"name\"],\n",
    "    \"num_supported_bills\": legislators_df[\"name\"].map(supported_bills_count).fillna(0).astype(int),\n",
    "    \"num_opposed_bills\": legislators_df[\"name\"].map(opposed_bills_count).fillna(0).astype(int)\n",
    "})\n",
    "\n",
    "print(legislator_support_oppose_count)"
   ]
  },
  {
   "cell_type": "code",
   "execution_count": 13,
   "metadata": {},
   "outputs": [],
   "source": [
    "legislator_support_oppose_count.to_csv(\"legislators-support-oppose-count.csv\", index=False)"
   ]
  }
 ],
 "metadata": {
  "kernelspec": {
   "display_name": "Python 3",
   "language": "python",
   "name": "python3"
  },
  "language_info": {
   "codemirror_mode": {
    "name": "ipython",
    "version": 3
   },
   "file_extension": ".py",
   "mimetype": "text/x-python",
   "name": "python",
   "nbconvert_exporter": "python",
   "pygments_lexer": "ipython3",
   "version": "3.10.7"
  }
 },
 "nbformat": 4,
 "nbformat_minor": 2
}
