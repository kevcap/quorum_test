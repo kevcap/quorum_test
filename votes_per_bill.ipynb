{
 "cells": [
  {
   "cell_type": "markdown",
   "metadata": {},
   "source": [
    "# 2nd Task: Check how many supporters and opposers each bill had\n",
    "#### For every bill in the dataset, how many legislators supported the bill? How many legislators opposed the bill? Who was the primary sponsor of the bill?\n",
    "#### Expected output: CSV file named \" bills.csv\" with 5 columns as follows:\n",
    "\n",
    "#### Field Type Description\n",
    "id | integer | The id of the bill \\\n",
    "title | string | The title of the bill \\\n",
    "supporter_count | integer | The number of legislators that supported this bill in the vote for it \\\n",
    "opposer_count | integer | The number of legislators that opposed this bill in the vote for it \\\n",
    "primary_sponsor | string | The name of the primary sponsor of the bill. If the name of the sponsor is not available in the dataset, the cell should be “Unknown”\n"
   ]
  },
  {
   "cell_type": "code",
   "execution_count": 1,
   "metadata": {},
   "outputs": [],
   "source": [
    "import pandas as pd"
   ]
  },
  {
   "cell_type": "code",
   "execution_count": 13,
   "metadata": {},
   "outputs": [],
   "source": [
    "bills_df = pd.read_csv(\"./csv/bills.csv\")\n",
    "legislators_df = pd.read_csv(\"./csv/legislators.csv\")\n",
    "vote_results_df = pd.read_csv(\"./csv/vote_results.csv\")\n",
    "votes_df = pd.read_csv(\"./csv/votes.csv\")"
   ]
  },
  {
   "cell_type": "code",
   "execution_count": 3,
   "metadata": {},
   "outputs": [],
   "source": [
    "merged_vote_data = pd.merge(vote_results_df, votes_df, left_on=\"vote_id\", right_on=\"id\")"
   ]
  },
  {
   "cell_type": "code",
   "execution_count": 4,
   "metadata": {},
   "outputs": [],
   "source": [
    "supporter_counts = merged_vote_data[merged_vote_data[\"vote_type\"] == 1].groupby(\"bill_id\").size()\n",
    "opposer_counts = merged_vote_data[merged_vote_data[\"vote_type\"] == 2].groupby(\"bill_id\").size()"
   ]
  },
  {
   "cell_type": "code",
   "execution_count": 5,
   "metadata": {},
   "outputs": [
    {
     "name": "stdout",
     "output_type": "stream",
     "text": [
      "{904789: 'Rep. Don Bacon (R-NE-2)', 1603850: 'Rep. Jamaal Bowman (D-NY-16)', 1852382: 'Rep. Cori Bush (D-MO-1)', 904796: 'Rep. Brian Fitzpatrick (R-PA-1)', 15318: 'Rep. Andrew Garbarino (R-NY-2)', 1269775: 'Rep. Anthony Gonzalez (R-OH-16)', 412649: 'Rep. John Katko (R-NY-24)', 412421: 'Rep. Adam Kinzinger (R-IL-16)', 15367: 'Rep. Nicole Malliotakis (R-NY-11)', 412487: 'Rep. David McKinley (R-WV-1)', 1269767: 'Rep. Alexandria Ocasio-Cortez (D-NY-14)', 905216: 'Rep. Ilhan Omar (D-MN-5)', 1269778: 'Rep. Ayanna Pressley (D-MA-7)', 412393: 'Rep. Tom Reed (R-NY-23)', 400380: 'Rep. Chris Smith (R-NJ-4)', 1269790: 'Rep. Rashida Tlaib (D-MI-13)', 400414: 'Rep. Fred Upton (R-MI-6)', 17941: 'Rep. Jeff Van Drew (R-NJ-2)', 400440: 'Rep. Don Young (R-AK-1)', 412211: 'Rep. John Yarmuth (D-KY-3)'}\n"
     ]
    }
   ],
   "source": [
    "possible_sponsors = dict(zip(legislators_df[\"id\"], legislators_df[\"name\"]))\n",
    "\n",
    "print(possible_sponsors)"
   ]
  },
  {
   "cell_type": "code",
   "execution_count": 6,
   "metadata": {},
   "outputs": [
    {
     "name": "stdout",
     "output_type": "stream",
     "text": [
      "        id                                              title  \\\n",
      "0  2952375                   H.R. 5376: Build Back Better Act   \n",
      "1  2900994  H.R. 3684: Infrastructure Investment and Jobs Act   \n",
      "\n",
      "   supporter_count  opposer_count             primary_sponsor  \n",
      "0                6             13  Rep. John Yarmuth (D-KY-3)  \n",
      "1               13              6                     Unknown  \n"
     ]
    }
   ],
   "source": [
    "bills_support_oppose_count = pd.DataFrame({\n",
    "    \"id\": bills_df[\"id\"],\n",
    "    \"title\": bills_df[\"title\"],\n",
    "    \"supporter_count\": bills_df[\"id\"].map(supporter_counts).fillna(0).astype(int),\n",
    "    \"opposer_count\": bills_df[\"id\"].map(opposer_counts).fillna(0).astype(int),\n",
    "    \"primary_sponsor\": bills_df[\"sponsor_id\"].map(possible_sponsors).fillna(\"Unknown\")\n",
    "})\n",
    "\n",
    "print(bills_support_oppose_count)"
   ]
  },
  {
   "cell_type": "code",
   "execution_count": 10,
   "metadata": {},
   "outputs": [],
   "source": [
    "bills_support_oppose_count.to_csv(\"bills.csv\")"
   ]
  }
 ],
 "metadata": {
  "kernelspec": {
   "display_name": "Python 3",
   "language": "python",
   "name": "python3"
  },
  "language_info": {
   "codemirror_mode": {
    "name": "ipython",
    "version": 3
   },
   "file_extension": ".py",
   "mimetype": "text/x-python",
   "name": "python",
   "nbconvert_exporter": "python",
   "pygments_lexer": "ipython3",
   "version": "3.10.7"
  }
 },
 "nbformat": 4,
 "nbformat_minor": 2
}
