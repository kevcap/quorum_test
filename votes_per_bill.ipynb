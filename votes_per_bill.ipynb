{
 "cells": [
  {
   "cell_type": "markdown",
   "metadata": {},
   "source": [
    "# 2nd Task: Check how many supporters and opposers each bill had\n",
    "#### For every bill in the dataset, how many legislators supported the bill? How many legislators opposed the bill? Who was the primary sponsor of the bill?\n",
    "#### Expected output: CSV file named \" bills.csv\" with 5 columns as follows:\n",
    "\n",
    "#### Field Type Description\n",
    "id | integer | The id of the bill \\\n",
    "title | string | The title of the bill \\\n",
    "supporter_count | integer | The number of legislators that supported this bill in the vote for it \\\n",
    "opposer_count | integer | The number of legislators that opposed this bill in the vote for it \\\n",
    "primary_sponsor | string | The name of the primary sponsor of the bill. If the name of the sponsor is not available in the dataset, the cell should be “Unknown”\n"
   ]
  },
  {
   "cell_type": "code",
   "execution_count": null,
   "metadata": {},
   "outputs": [],
   "source": [
    "import pandas as pd"
   ]
  }
 ],
 "metadata": {
  "language_info": {
   "name": "python"
  }
 },
 "nbformat": 4,
 "nbformat_minor": 2
}
